{
  "nbformat": 4,
  "nbformat_minor": 0,
  "metadata": {
    "colab": {
      "name": "Case_study_2_exp.ipynb",
      "provenance": [],
      "collapsed_sections": []
    },
    "kernelspec": {
      "name": "python3",
      "display_name": "Python 3"
    },
    "language_info": {
      "name": "python"
    }
  },
  "cells": [
    {
      "cell_type": "code",
      "execution_count": null,
      "metadata": {
        "id": "DjV-NMn9Pas9"
      },
      "outputs": [],
      "source": [
        "import pandas as pd\n",
        "import numpy as np\n",
        "from sklearn.preprocessing import OneHotEncoder\n",
        "from sklearn.model_selection import train_test_split, GridSearchCV, RepeatedStratifiedKFold\n",
        "from sklearn.preprocessing import StandardScaler\n",
        "from sklearn.metrics import accuracy_score, f1_score, confusion_matrix\n",
        "from matplotlib import pyplot as plt\n",
        "from imblearn.over_sampling import ADASYN\n",
        "from sklearn.decomposition import PCA\n",
        "from sklearn.tree import DecisionTreeClassifier\n",
        "from sklearn.linear_model import LogisticRegression\n",
        "from sklearn.manifold import TSNE\n",
        "import pickle"
      ]
    },
    {
      "cell_type": "code",
      "source": [
        "# Load Train Dataset\n",
        "root_dir = \"./archive\"\n",
        "Train=pd.read_csv(root_dir + \"/Train.csv\")\n",
        "Train_Beneficiarydata=pd.read_csv(root_dir + \"/Train_Beneficiarydata.csv\")\n",
        "Train_Inpatientdata=pd.read_csv(root_dir + \"/Train_Inpatientdata.csv\")\n",
        "Train_Outpatientdata=pd.read_csv(root_dir + \"/Train_Outpatientdata.csv\")\n",
        "\n",
        "# Load Test Dataset\n",
        "\n",
        "Test=pd.read_csv(root_dir + \"/Test.csv\")\n",
        "Test_Beneficiarydata=pd.read_csv(root_dir + \"/Test_Beneficiarydata.csv\")\n",
        "Test_Inpatientdata=pd.read_csv(root_dir + \"/Test_Inpatientdata.csv\")\n",
        "Test_Outpatientdata=pd.read_csv(root_dir + \"/Test_Outpatientdata.csv\")"
      ],
      "metadata": {
        "id": "vY6ioosiS1dc"
      },
      "execution_count": null,
      "outputs": []
    },
    {
      "cell_type": "code",
      "source": [
        "class PreProcess():\n",
        "  def __init__(self):\n",
        "    self.last_dod = None\n",
        "    self.onehotencoder = OneHotEncoder()\n",
        "\n",
        "  def __preprocess_bene(self, df, stage):\n",
        "    '''\n",
        "    df: dataframe\n",
        "\n",
        "    stage : 'train' or 'test'\n",
        "    '''\n",
        "    df['DOD'] = pd.to_datetime(df['DOD'],errors='ignore')\n",
        "    df['DOB'] = pd.to_datetime(df['DOB'] )\n",
        "    df['Age'] = round(((df['DOD'] - df['DOB']).dt.days)/365)\n",
        "\n",
        "    if stage == \"train\":\n",
        "      self.last_dod = df['DOD'].max()\n",
        "      with open(\"last_dod\", \"wb\") as f:\n",
        "        pickle.dump({\"last_dod\": self.last_dod},f)\n",
        "    \n",
        "    df.Age.fillna(round(((self.last_dod - df['DOB']).dt.days)/365),\n",
        "                                      inplace=True)\n",
        "\n",
        "\n",
        "    df['Alive'] =[\"Yes\" if pd.isna(i) else \"No\" for i in df['DOD']]\n",
        "\n",
        "    df = df.replace({'Gender': 2,'ChronicCond_Alzheimer': 2, 'ChronicCond_Heartfailure': 2, 'ChronicCond_KidneyDisease': 2,\n",
        "                           'ChronicCond_Cancer': 2, 'ChronicCond_ObstrPulmonary': 2, 'ChronicCond_Depression': 2, \n",
        "                           'ChronicCond_Diabetes': 2, 'ChronicCond_IschemicHeart': 2, 'ChronicCond_Osteoporasis': 2, \n",
        "                           'ChronicCond_rheumatoidarthritis': 2, 'ChronicCond_stroke': 2 }\n",
        "                           , 0)\n",
        "    \n",
        "    df = df.replace({'RenalDiseaseIndicator': 'Y'}, 1)\n",
        "    \n",
        "    return df\n",
        "\n",
        "  def __preprocess_inpatient(self, df, stage):\n",
        "    df['AdmissionDt'] = pd.to_datetime(df['AdmissionDt'])\n",
        "    df['DischargeDt'] = pd.to_datetime(df['DischargeDt'])\n",
        "    df['AdmitForDays'] = ((df['DischargeDt'] - df['AdmissionDt']).dt.days.abs())+1\n",
        "\n",
        "    return df\n",
        "  \n",
        "  def merge_and_preprocess(self, class_df, Beneficiarydata, Inpatientdata, Outpatientdata, stage):\n",
        "    def N_unique_values(df):\n",
        "      return np.array([len(set([i for i in x[~pd.isnull(x)]])) for x in df.values])\n",
        "\n",
        "    Beneficiarydata = self.__preprocess_bene(Beneficiarydata, stage=stage)\n",
        "    Inpatientdata = self.__preprocess_inpatient(Inpatientdata, stage=stage)\n",
        "    \n",
        "    patient_merge_id = [i for i in Outpatientdata.columns if i in Inpatientdata.columns]\n",
        "\n",
        "    # Merge Inpatient, Outpatient and beneficiary dataframe into a single patient dataset\n",
        "    Patient_data = pd.merge(Inpatientdata, Outpatientdata,\n",
        "                        left_on = patient_merge_id,\n",
        "                        right_on = patient_merge_id,\n",
        "                        how = 'outer').merge(Beneficiarydata,left_on='BeneID',right_on='BeneID',how='inner')\n",
        "    \n",
        "    Patient_data[['AttendingPhysician', 'OperatingPhysician', 'OtherPhysician']] = np.where(Patient_data[['AttendingPhysician', 'OperatingPhysician', 'OtherPhysician']].isnull(), 0, 1)\n",
        "    Patient_data['N_Types_Physicians'] = Patient_data['AttendingPhysician'] +  Patient_data['OperatingPhysician'] + Patient_data['OtherPhysician']\n",
        "\n",
        "    Patient_data['IsDiagnosisCode'] = np.where(Patient_data.DiagnosisGroupCode.isnull(), 0, 1)\n",
        "    Patient_data = Patient_data.drop(['DiagnosisGroupCode'], axis = 1)\n",
        "\n",
        "    Patient_data['DeductibleAmtPaid'].fillna(0,inplace=True)\n",
        "    Patient_data['IsDeductibleAmtPaid']=np.where(Patient_data['DeductibleAmtPaid']==0,0,1)\n",
        "\n",
        "    Patient_data['AdmitForDays'].fillna(0,inplace=True)\n",
        "\n",
        "    # handle ClmProcedureCodes variables \n",
        "\n",
        "    ClmProcedure_vars = ['ClmProcedureCode_{}'.format(x) for x in range(1,7)]\n",
        "\n",
        "    # count the number of procedureCode for each claim and store these value in a new variable\n",
        "    Patient_data['N_Procedure'] = N_unique_values(Patient_data[ClmProcedure_vars])\n",
        "\n",
        "    ### Handling of 'ClmDiagnosisCode'\n",
        "    \n",
        "    ClmDiagnosisCode_vars = ['ClmAdmitDiagnosisCode'] + ['ClmDiagnosisCode_{}'.format(x) for x in range(1, 11)]\n",
        "    \n",
        "    # We count the number of claims\n",
        "\n",
        "    Patient_data['N_UniqueDiagnosis_Claims'] = N_unique_values(Patient_data[ClmDiagnosisCode_vars])\n",
        "    \n",
        "    if stage == 'train':\n",
        "      x = self.onehotencoder.fit_transform(Patient_data.Race.values.reshape(-1, 1)).toarray()\n",
        "      with open(\"encoder\", \"wb\") as f: \n",
        "        pickle.dump(self.onehotencoder, f)\n",
        "\n",
        "      df_OneHot = pd.DataFrame(x, columns = [\"Race_\"+str(int(i)) for i in range(1,5)]) \n",
        "      \n",
        "      Patient_data = pd.concat([Patient_data, df_OneHot], axis=1)\n",
        "      Patient_data.drop(['Race'], axis=1,inplace=True)\n",
        "\n",
        "    if stage == 'test':\n",
        "      x = self.onehotencoder.transform(Patient_data.Race.values.reshape(-1, 1)).toarray()\n",
        "\n",
        "      df_OneHot = pd.DataFrame(x, columns = [\"Race_\"+str(int(i)) for i in range(1,5)]) \n",
        "      \n",
        "      Patient_data = pd.concat([Patient_data, df_OneHot], axis=1)\n",
        "      Patient_data.drop(['Race'], axis=1,inplace=True)\n",
        "\n",
        "    Count = Patient_data[['BeneID', 'ClaimID']].groupby(Patient_data['Provider']).nunique().reset_index()\n",
        "    Count.rename(columns={'BeneID':'BeneID_count','ClaimID':'ClaimID_count'},inplace=True)\n",
        "\n",
        "    Data_Sum = Patient_data.groupby(['Provider'], as_index = False)[['InscClaimAmtReimbursed', 'DeductibleAmtPaid', 'RenalDiseaseIndicator', \n",
        "                                                     'AttendingPhysician','OperatingPhysician','OtherPhysician','AdmitForDays',\n",
        "                                                    'ChronicCond_Alzheimer', 'ChronicCond_Heartfailure','ChronicCond_Cancer', \n",
        "                                                    'ChronicCond_KidneyDisease', 'ChronicCond_ObstrPulmonary',\n",
        "                                                   'ChronicCond_Depression','ChronicCond_Diabetes', 'ChronicCond_IschemicHeart',   \n",
        "                                                    'ChronicCond_Osteoporasis', 'ChronicCond_rheumatoidarthritis',\n",
        "                                                    'ChronicCond_stroke', 'IPAnnualReimbursementAmt','IPAnnualDeductibleAmt',\n",
        "                                                    'OPAnnualReimbursementAmt', 'OPAnnualDeductibleAmt', 'Alive',\n",
        "                                                    'N_Types_Physicians','IsDiagnosisCode', 'N_Procedure', 'N_UniqueDiagnosis_Claims']].sum()\n",
        "    Data_Mean=round(Patient_data.groupby(['Provider'], as_index = False)[['NoOfMonths_PartACov', 'NoOfMonths_PartBCov',\n",
        "                                                                            'Age']].mean())\n",
        "    \n",
        "    df=pd.merge(Count,Data_Sum,on='Provider',how='left').\\\n",
        "                merge(Data_Mean,on='Provider',how='left').\\\n",
        "                merge(class_df,on='Provider',how='right')\n",
        "    \n",
        "    return df"
      ],
      "metadata": {
        "id": "NATqdC17S3l1"
      },
      "execution_count": null,
      "outputs": []
    },
    {
      "cell_type": "markdown",
      "source": [
        "# Upsampling"
      ],
      "metadata": {
        "id": "gVd32589ZQKj"
      }
    },
    {
      "cell_type": "code",
      "source": [
        "p = PreProcess()\n",
        "data = p.merge_and_preprocess(Train, Train_Beneficiarydata, Train_Inpatientdata, Train_Outpatientdata, stage=\"train\")"
      ],
      "metadata": {
        "id": "kvqR3aWfTAJW"
      },
      "execution_count": null,
      "outputs": []
    },
    {
      "cell_type": "code",
      "source": [
        "y = data[\"PotentialFraud\"]\n",
        "X = data.drop([\"PotentialFraud\", \"Provider\"], axis = 1)"
      ],
      "metadata": {
        "id": "TqeFVmKsTK38"
      },
      "execution_count": null,
      "outputs": []
    },
    {
      "cell_type": "code",
      "source": [
        "ada = ADASYN(random_state=42)\n",
        "X_resampled, y_resampled = ada.fit_resample(X, y)"
      ],
      "metadata": {
        "id": "ZTm-gMqCUvTe"
      },
      "execution_count": null,
      "outputs": []
    },
    {
      "cell_type": "code",
      "source": [
        "tsne = TSNE(n_components=2, perplexity=11, n_iter=3000)\n",
        "\n",
        "X_vis = tsne.fit_transform(X)\n",
        "X_res_vis = tsne.fit_transform(X_resampled)\n",
        "\n",
        "# http://glemaitre.github.io/imbalanced-learn/auto_examples/over-sampling/plot_adasyn.html\n",
        "\n",
        "f, (ax1, ax2) = plt.subplots(1, 2)\n",
        "\n",
        "c0 = ax1.scatter(X_vis[y == \"No\", 0], X_vis[y == \"No\", 1], label=\"Class No\",\n",
        "                 alpha=0.5)\n",
        "c1 = ax1.scatter(X_vis[y == \"Yes\", 0], X_vis[y == \"Yes\", 1], label=\"Class Yes\",\n",
        "                 alpha=0.5)\n",
        "ax1.set_title('Original set')\n",
        "\n",
        "ax2.scatter(X_res_vis[y_resampled == \"No\", 0], X_res_vis[y_resampled == \"No\", 1],\n",
        "            label=\"Class No\", alpha=.5)\n",
        "ax2.scatter(X_res_vis[y_resampled == \"Yes\", 0], X_res_vis[y_resampled == \"Yes\", 1],\n",
        "            label=\"Class Yes\", alpha=.5)\n",
        "ax2.set_title('ADASYN')\n",
        "\n",
        "for ax in (ax1, ax2):\n",
        "    ax.spines['top'].set_visible(False)\n",
        "    ax.spines['right'].set_visible(False)\n",
        "    ax.get_xaxis().tick_bottom()\n",
        "    ax.get_yaxis().tick_left()\n",
        "    ax.spines['left'].set_position(('outward', 10))\n",
        "    ax.spines['bottom'].set_position(('outward', 10))\n",
        "\n",
        "plt.figlegend((c0, c1), ('Class No', 'Class Yes'), loc='lower center',\n",
        "              ncol=2, labelspacing=0.)\n",
        "plt.tight_layout(pad=3)\n",
        "plt.show()"
      ],
      "metadata": {
        "colab": {
          "base_uri": "https://localhost:8080/",
          "height": 431
        },
        "id": "AE6_1PHEVeY9",
        "outputId": "aa15cdea-8243-434c-ac14-72eee9a61c20"
      },
      "execution_count": null,
      "outputs": [
        {
          "output_type": "stream",
          "name": "stderr",
          "text": [
            "/usr/local/lib/python3.7/dist-packages/sklearn/manifold/_t_sne.py:783: FutureWarning: The default initialization in TSNE will change from 'random' to 'pca' in 1.2.\n",
            "  FutureWarning,\n",
            "/usr/local/lib/python3.7/dist-packages/sklearn/manifold/_t_sne.py:793: FutureWarning: The default learning rate in TSNE will change from 200.0 to 'auto' in 1.2.\n",
            "  FutureWarning,\n",
            "/usr/local/lib/python3.7/dist-packages/sklearn/manifold/_t_sne.py:783: FutureWarning: The default initialization in TSNE will change from 'random' to 'pca' in 1.2.\n",
            "  FutureWarning,\n",
            "/usr/local/lib/python3.7/dist-packages/sklearn/manifold/_t_sne.py:793: FutureWarning: The default learning rate in TSNE will change from 200.0 to 'auto' in 1.2.\n",
            "  FutureWarning,\n"
          ]
        },
        {
          "output_type": "display_data",
          "data": {
            "image/png": "[encoded data removed]",
            "text/plain": [
              "<Figure size 432x288 with 2 Axes>"
            ]
          },
          "metadata": {
            "needs_background": "light"
          }
        }
      ]
    },
    {
      "cell_type": "markdown",
      "source": [
        "# Modeling"
      ],
      "metadata": {
        "id": "0PCVPdP1at6w"
      }
    },
    {
      "cell_type": "code",
      "source": [
        "X_train, X_test, y_train, y_test = train_test_split(X_resampled, y_resampled, test_size=0.2, stratify=y_resampled)"
      ],
      "metadata": {
        "id": "pQr5gUZQaxxP"
      },
      "execution_count": null,
      "outputs": []
    },
    {
      "cell_type": "code",
      "source": [
        "class ModelStack:\n",
        "  def __init__(self, max_depth = [2, 3, 5, 10, 20], \n",
        "               min_samples_leaf = [5, 10, 20, 50, 100], \n",
        "               criterion = [\"gini\",\"entropy\"], \n",
        "               C= [100, 10, 1, 0.1, 0.01, 0.001, 0.0001], \n",
        "               penalty=['l2', 'l1']):\n",
        "    \n",
        "    self.max_depth = max_depth\n",
        "    self.min_samples_leaf = min_samples_leaf\n",
        "    self.criterion = criterion\n",
        "    self.C = C\n",
        "    self.penalty = penalty\n",
        "    self.model_series = []\n",
        "    self.log = None\n",
        "\n",
        "  def __bagging(self, X, y):\n",
        "    clf = DecisionTreeClassifier(random_state=42)\n",
        "    params = {\n",
        "      'max_depth': self.max_depth,\n",
        "      'min_samples_leaf': self.min_samples_leaf,\n",
        "      'criterion': self.criterion\n",
        "    }\n",
        "  \n",
        "    gs = GridSearchCV(clf, param_grid=params, cv=3, scoring='accuracy')\n",
        "    return gs.fit(X, y)\n",
        "\n",
        "  def __boosting(self, X, y):\n",
        "    clf = LogisticRegression(random_state=42,solver='liblinear', max_iter=200)   \n",
        "    params ={\n",
        "    \"C\": self.C,\n",
        "    \"penalty\": self.penalty\n",
        "    }  \n",
        "    gs = GridSearchCV(clf, param_grid=params, cv=3, scoring='accuracy')\n",
        "    return gs.fit(X, y)\n",
        "\n",
        "  def fit(self, X_train, y_train):\n",
        "    d1_X_train, d2_X_train, d1_y_train, d2_y_train = train_test_split(X_train, y_train, test_size=0.5, stratify=y_train)\n",
        "\n",
        "    rskf = RepeatedStratifiedKFold(n_splits=2, n_repeats=2, random_state=42)\n",
        "    model_series = []\n",
        "    new_df = pd.DataFrame()\n",
        "    idx = 0\n",
        "    for train_index, test_index in rskf.split(d1_X_train, d1_y_train):\n",
        "      clf = self.__bagging(d1_X_train.iloc[train_index,:], d1_y_train.iloc[train_index])\n",
        "      model_series.append(clf)\n",
        "      pred = clf.predict(d2_X_train)\n",
        "      pred = np.where(pred == \"No\", 0, 1)\n",
        "      new_df[\"model_k_\"+str(idx)] = pred\n",
        "      idx+=1\n",
        "\n",
        "    self.model_series = model_series\n",
        "    \n",
        "    with open(\"bagging_model\", \"wb\") as f:\n",
        "      pickle.dump(self.model_series, f)\n",
        "    \n",
        "    new_df.index = d2_X_train.index\n",
        "    self.log = self.__boosting(new_df, d2_y_train)\n",
        "\n",
        "    with open(\"stacking_model\", \"wb\") as f:\n",
        "      pickle.dump(self.log, f)\n",
        "  \n",
        "  def predict(self, X_test):\n",
        "    test_df = pd.DataFrame()\n",
        "    for idx, clf in enumerate(self.model_series):\n",
        "      pred = clf.predict(X_test)\n",
        "      pred = np.where(pred == \"No\", 0, 1)\n",
        "      test_df[\"model_k_\"+str(idx)] = pred\n",
        "    \n",
        "    test_df.index = X_test.index\n",
        "    return self.log.predict(test_df)"
      ],
      "metadata": {
        "id": "SQ6Iz7qaxLNr"
      },
      "execution_count": null,
      "outputs": []
    },
    {
      "cell_type": "code",
      "source": [
        "ob = ModelStack()\n",
        "ob.fit(X_train, y_train)"
      ],
      "metadata": {
        "id": "Q92OuzXB7lpH"
      },
      "execution_count": null,
      "outputs": []
    },
    {
      "cell_type": "code",
      "source": [
        "print(\"Train Accuracy : \", accuracy_score(y_train, ob.predict(X_train)))\n",
        "print(\"Train f1 Score : \", f1_score(np.where(y_train == \"No\", 0, 1), np.where(ob.predict(X_train) == \"No\", 0, 1)))\n",
        "print(\"\\n\")\n",
        "print(\"Test Accuracy : \", accuracy_score(y_test, ob.predict(X_test)))\n",
        "print(\"Test f1 Score : \", f1_score(np.where(y_test == \"No\", 0, 1), np.where(ob.predict(X_test) == \"No\", 0, 1)))"
      ],
      "metadata": {
        "colab": {
          "base_uri": "https://localhost:8080/"
        },
        "id": "gc0p-6OP-A_Z",
        "outputId": "3012eb96-b7f1-466f-e331-74d751647bf2"
      },
      "execution_count": null,
      "outputs": [
        {
          "output_type": "stream",
          "name": "stdout",
          "text": [
            "Train Accuracy :  0.8989667049368542\n",
            "Train f1 Score :  0.9021980735984194\n",
            "\n",
            "\n",
            "Test Accuracy :  0.8826530612244898\n",
            "Test f1 Score :  0.8861386138613861\n"
          ]
        }
      ]
    },
    {
      "cell_type": "code",
      "source": [
        "print(\"Accuracy on original X and Y: \", accuracy_score(y, ob.predict(X)))\n",
        "print(\"f1 Score on original X and Y: \", f1_score(np.where(y == \"No\", 0, 1), np.where(ob.predict(X) == \"No\", 0, 1)))\n",
        "print(\"Confusion matrix : \\n\", confusion_matrix(np.where(y == \"No\", 0, 1), np.where(ob.predict(X) == \"No\", 0, 1)))"
      ],
      "metadata": {
        "colab": {
          "base_uri": "https://localhost:8080/"
        },
        "id": "PmsfqOeJA7Ty",
        "outputId": "0ef097c5-e36a-4909-97f1-60df59c10cf4"
      },
      "execution_count": null,
      "outputs": [
        {
          "output_type": "stream",
          "name": "stdout",
          "text": [
            "Accuracy on original X and Y:  0.8658040665434381\n",
            "f1 Score on original X and Y:  0.5562347188264058\n",
            "Confusion matrix : \n",
            " [[4229  675]\n",
            " [  51  455]]\n"
          ]
        }
      ]
    },
    {
      "cell_type": "markdown",
      "source": [
        "<h1>Observation after sampling: </h1>\n",
        "\n",
        "1. Our ensemble model is neither overfitting and underfitting. We can see by the score that our model generalized.\n",
        "\n",
        "2. We got a much better scores compared to our baseline model which was only 0.58 for f1 and 0.95 for accuracy.\n",
        "\n",
        "3. On our original dataset without sampling we are still facing issue with f1score, but we can see that our model is now able to classify minority class."
      ],
      "metadata": {
        "id": "LxlG_wgZAOn8"
      }
    }
  ]
}